{
 "cells": [
  {
   "cell_type": "code",
   "execution_count": 163,
   "metadata": {},
   "outputs": [],
   "source": [
    "import pulp as pl\n",
    "\n",
    "# Definimo las dimensiones del tablero y los barcos\n",
    "barcos = [3, 1, 1, 2, 4, 2, 1, 2, 1, 3]  # Longitudes de los barcos\n",
    "requisitos_filas = [3, 2, 2, 4, 2, 1, 1, 2, 3, 0]  # Casilleros ocupados por fila\n",
    "requisitos_columnas = [1, 2, 1, 3, 2, 2, 3, 1, 5, 0]  # Casilleros ocupados por columna\n",
    "\n",
    "n = len(requisitos_filas)\n",
    "m = len(requisitos_columnas)\n",
    "k = len(barcos)\n",
    "\n",
    "modelo = pl.LpProblem(\"batalla_naval\", pl.LpMaximize)\n"
   ]
  },
  {
   "cell_type": "markdown",
   "metadata": {},
   "source": [
    "# Restricciones\n"
   ]
  },
  {
   "cell_type": "markdown",
   "metadata": {},
   "source": [
    "### Restricciones de barcos\n",
    "\n",
    "**El barco se encuentra posicionado**\n",
    "\n",
    "Modelo un tablero por cada barco, donde $bx_{i,j}$ representa que el casillero (i, j) está ocupado por\n",
    "el barco x.\n",
    "\n",
    "Para todo barco $b_x$ se debe cumplir que ocupa todos los casilleros que debe:\n",
    "\n",
    "$\\sum_{i=0}^{n-1} \\sum_{j=0}^{m-1} bx_{i,j} = B_x - 1\\quad \\forall x$, $B_x$ = largo del barco x.\n",
    "\n",
    "El -1 es porque el casillero inicial del barco se modela con la variable $sx_{i,j}$."
   ]
  },
  {
   "cell_type": "code",
   "execution_count": null,
   "metadata": {},
   "outputs": [],
   "source": [
    "bx = [[[pl.LpVariable(f\"b_{x}_{i}_{j}\", cat='Binary') for j in range(m)] for i in range(n)] for x in range(k)]\n",
    "\n",
    "for x in range(k):\n",
    "    # El -1 es porque sx representa el primer casillero\n",
    "    modelo += pl.lpSum(bx[x][i][j] for i in range(n) for j in range(m)) == barcos[x] - 1"
   ]
  },
  {
   "cell_type": "markdown",
   "metadata": {},
   "source": [
    "\n",
    "**Adyacencia horizontal o vertical**\n",
    "\n",
    "Lo primero es definir una variable que me indique si el barco x se encuentra posicionado horizontal o\n",
    "verticalmente.\n",
    "\n",
    "Para eso defino $h_x$ como una variable booleana que si vale:\n",
    "* **1**: el barco x está posicionado horizontalmente\n",
    "* **0**: el barco x está posicionado verticalmente"
   ]
  },
  {
   "cell_type": "code",
   "execution_count": 158,
   "metadata": {},
   "outputs": [],
   "source": [
    "hx = [pl.LpVariable(f\"h_{x}\", cat='Binary') for x in range(k)]"
   ]
  },
  {
   "cell_type": "markdown",
   "metadata": {},
   "source": [
    "\n",
    "\n",
    "Defino ${sx}_{i,j}$ como el casillero donde empieza el barco x. ${sx}_{i,j}$\n",
    "es una variable booleana y cumple que:\n",
    "\n",
    "$\\sum_{i=0}^{n-1} \\sum_{j=0}^{m-1} sx_{i,j} = 1 \\quad \\forall x$\n",
    "\n",
    "Entonces, se tiene que cumplir que:\n",
    "\n",
    "**Caso horizontal**: \n",
    "\n",
    "$ {sx}_{i,j} + \\sum_{col=j+1}^{j+B_x-1} {bx}_{i,col} \\geq B_x \\cdot h_x - M \\cdot {sx}_{i,j}$\n",
    "\n",
    "**Caso vertical**: \n",
    "\n",
    "$ {sx}_{i,j} + \\sum_{fil=i+1}^{i+B_x-1} {bx}_{fil,j} \\geq B_x \\cdot (1 - h_x) - M \\cdot {sx}_{i,j}$"
   ]
  },
  {
   "cell_type": "code",
   "execution_count": 159,
   "metadata": {},
   "outputs": [],
   "source": [
    "sx = [[[pl.LpVariable(f\"s_{x}_{i}_{j}\", cat='Binary') for j in range(m)] for i in range(n)] for x in range(k)]\n",
    "\n",
    "\n",
    "for x in range(k):\n",
    "    modelo += pl.lpSum(sx[x][i][j] for i in range(n) for j in range(m)) == 1\n",
    "\n",
    "M = 100000\n",
    "\n",
    "for x in range(k):\n",
    "    Bx = barcos[x]\n",
    "    for i in range(n - Bx + 1):  # Evitar overflow\n",
    "        for j in range(m - Bx + 1):  # Evitar overflow\n",
    "            # Caso horizontal\n",
    "            modelo += sx[x][i][j] + pl.lpSum(bx[x][i][col] for col in range(j + 1, j + Bx)) >= Bx * hx[x] - M * sx[x][i][j]\n",
    "\n",
    "            # Caso vertical\n",
    "            modelo += sx[x][i][j] + pl.lpSum(bx[x][fil][j] for fil in range(i + 1, i + Bx)) >= Bx * (1 - hx[x]) - M * sx[x][i][j]\n"
   ]
  },
  {
   "cell_type": "markdown",
   "metadata": {},
   "source": [
    "### Restricciones de casillero"
   ]
  },
  {
   "cell_type": "markdown",
   "metadata": {},
   "source": [
    "$c_{i,j}$: el casillero (i,j) se encuentra ocupado\n",
    "\n",
    "$c_{i,j} = \\sum_{x=1}^{k} {sx}_{i,j} + \\sum_{x=1}^{k} {bx}_{i,j} \\leq 1$\n",
    "\n",
    "Esto fuerza a que el casillero sea 0 o 1 y además fuerza a que no se puedan superponer los barcos."
   ]
  },
  {
   "cell_type": "code",
   "execution_count": 160,
   "metadata": {},
   "outputs": [],
   "source": [
    "casilleros = [\n",
    "    [pl.LpVariable(f\"c{i},{j}\", cat=\"Binary\") for j in range(m)] for i in range(n)\n",
    "]\n",
    "\n",
    "for i in range(n):\n",
    "    for j in range(m):\n",
    "        modelo += casilleros[i][j] == pl.lpSum(\n",
    "            sx[x][i][j] for x in range(k)\n",
    "        ) + pl.lpSum(\n",
    "            bx[x][i][j] for x in range(k)\n",
    "        )\n",
    "        \n",
    "        modelo += casilleros[i][j] <= 1 "
   ]
  },
  {
   "cell_type": "markdown",
   "metadata": {},
   "source": [
    "### Requisito consumo de filas y columnas\n",
    "$\\sum_{j=0}^{m-1} c_{i,j} = F_i \\quad \\forall i \\in \\{0, 1, \\dots, n-1\\}$\n",
    "\n",
    "$\\sum_{i=0}^{n-1} c_{i,j} = C_j \\quad \\forall j \\in \\{0, 1, \\dots, m-1\\}$\n",
    "\n",
    "Donde $F_i$ y $C_j$ representan el consumo de la fila i y la columna j respectivamente.\n",
    "\n"
   ]
  },
  {
   "cell_type": "code",
   "execution_count": 161,
   "metadata": {},
   "outputs": [],
   "source": [
    "# Respetar los requisitos por fila\n",
    "for i in range(n):\n",
    "    modelo += pl.lpSum(casilleros[i][j] for j in range(m)) == requisitos_filas[i]\n",
    "\n",
    "# Respetar los requisitos por columna\n",
    "for j in range(m):\n",
    "    modelo += pl.lpSum(casilleros[i][j] for i in range(n)) == requisitos_columnas[j]"
   ]
  },
  {
   "cell_type": "markdown",
   "metadata": {},
   "source": [
    "### Requisito adyacencia\n",
    "\n",
    "..."
   ]
  },
  {
   "cell_type": "code",
   "execution_count": null,
   "metadata": {},
   "outputs": [],
   "source": []
  },
  {
   "cell_type": "markdown",
   "metadata": {},
   "source": [
    "### Resuelvo"
   ]
  },
  {
   "cell_type": "code",
   "execution_count": 162,
   "metadata": {},
   "outputs": [
    {
     "name": "stdout",
     "output_type": "stream",
     "text": [
      "Tablero:\n",
      "  1 2 1 3 2 2 3 1 5 0\n",
      "3 ■ ■         ■      \n",
      "2   ■             ■  \n",
      "2           ■     ■  \n",
      "4     ■ ■ ■ ■        \n",
      "2       ■         ■  \n",
      "1                 ■  \n",
      "1                 ■  \n",
      "2             ■      \n",
      "3       ■ ■   ■   ■  \n",
      "0                    \n"
     ]
    }
   ],
   "source": [
    "# Ecuación a maximizar (ocupar todos los casilleros que pueda) -------------------------------------\n",
    "modelo += pl.lpSum(casilleros[i][j] for i in range(n) for j in range(m))\n",
    "\n",
    "modelo.solve(pl.PULP_CBC_CMD(msg=False)) # Muteo el print de pulp\n",
    "\n",
    "# Mostrar el mapa del tablero ----------------------------------------------------------------------\n",
    "# if pl.LpStatus[modelo.status] == \"Optimal\":\n",
    "tablero = [[\" \" for _ in range(m)] for _ in range(n)]\n",
    "for i in range(n):\n",
    "    for j in range(m):\n",
    "        if pl.value(casilleros[i][j]) == 1:\n",
    "            tablero[i][j] = \"■\"\n",
    "\n",
    "print(\"Tablero:\")\n",
    "print(\"  \" + \" \".join(map(str, requisitos_columnas)))\n",
    "for i, fila in enumerate(tablero):\n",
    "    print(\n",
    "        f\"{requisitos_filas[i]} \" + \" \".join(fila)\n",
    "    )\n",
    "# # else:\n",
    "# #     print(\"No se encontró una solución óptima.\")"
   ]
  }
 ],
 "metadata": {
  "kernelspec": {
   "display_name": "Python 3",
   "language": "python",
   "name": "python3"
  },
  "language_info": {
   "codemirror_mode": {
    "name": "ipython",
    "version": 3
   },
   "file_extension": ".py",
   "mimetype": "text/x-python",
   "name": "python",
   "nbconvert_exporter": "python",
   "pygments_lexer": "ipython3",
   "version": "3.8.19"
  }
 },
 "nbformat": 4,
 "nbformat_minor": 2
}
