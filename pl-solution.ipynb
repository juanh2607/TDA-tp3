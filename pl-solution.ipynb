{
 "cells": [
  {
   "cell_type": "code",
   "execution_count": 6,
   "metadata": {},
   "outputs": [],
   "source": [
    "import pulp as pl\n",
    "\n",
    "# Definimos las dimensiones del tablero y los barcos\n",
    "barcos = [3, 1, 1, 2, 4, 2, 1, 2, 1, 3]  # Longitudes de los barcos\n",
    "requisitos_filas = [3, 2, 2, 4, 2, 1, 1, 2, 3, 0]  # Casilleros ocupados por fila\n",
    "requisitos_columnas = [1, 2, 1, 3, 2, 2, 3, 1, 5, 0]  # Casilleros ocupados por columna\n",
    "\n",
    "n = len(requisitos_filas)\n",
    "m = len(requisitos_columnas)\n",
    "k = len(barcos)\n",
    "\n",
    "modelo = pl.LpProblem(\"batalla_naval\", pl.LpMaximize)\n"
   ]
  },
  {
   "cell_type": "markdown",
   "metadata": {},
   "source": [
    "# Restricciones\n",
    "$c_{i,j}$: el casillero (i,j) se encuentra ocupado"
   ]
  },
  {
   "cell_type": "code",
   "execution_count": 7,
   "metadata": {},
   "outputs": [],
   "source": [
    "casilleros = [\n",
    "    [pl.LpVariable(f\"c{i},{j}\", cat=\"Binary\") for j in range(m)] for i in range(n)\n",
    "]"
   ]
  },
  {
   "cell_type": "markdown",
   "metadata": {},
   "source": [
    "### Requisito consumo de filas y columnas\n",
    "$\\sum_{j=1}^{m} c_{i,j} = F_i \\quad \\forall i \\in \\{1, 2, \\dots, n\\}$\n",
    "\n",
    "$\\sum_{i=1}^{n} c_{i,j} = C_j \\quad \\forall j \\in \\{1, 2, \\dots, m\\}$\n",
    "\n",
    "Donde $F_i$ y $C_j$ representan el consumo de la fila i y la columna j respectivamente.\n",
    "\n"
   ]
  },
  {
   "cell_type": "code",
   "execution_count": 8,
   "metadata": {},
   "outputs": [],
   "source": [
    "# Respetar los requisitos por fila\n",
    "for i in range(n):\n",
    "    modelo += pl.lpSum(casilleros[i][j] for j in range(m)) == requisitos_filas[i]\n",
    "\n",
    "# Respetar los requisitos por columna\n",
    "for j in range(m):\n",
    "    modelo += pl.lpSum(casilleros[i][j] for i in range(n)) == requisitos_columnas[j]"
   ]
  },
  {
   "cell_type": "markdown",
   "metadata": {},
   "source": [
    "### Restricciones de Barcos\n"
   ]
  },
  {
   "cell_type": "markdown",
   "metadata": {},
   "source": [
    "### Resuelvo"
   ]
  },
  {
   "cell_type": "code",
   "execution_count": null,
   "metadata": {},
   "outputs": [
    {
     "name": "stdout",
     "output_type": "stream",
     "text": [
      "Tablero:\n",
      "  1 2 1 3 2 2 3 1 5 0\n",
      "3   ■     ■   ■      \n",
      "2         ■ ■        \n",
      "2       ■   ■        \n",
      "4       ■     ■ ■ ■  \n",
      "2             ■   ■  \n",
      "1                 ■  \n",
      "1 ■                  \n",
      "2     ■           ■  \n",
      "3   ■   ■         ■  \n",
      "0                    \n"
     ]
    }
   ],
   "source": [
    "# Ecuación a maximizar (ocupar todos los casilleros que pueda) -------------------------------------\n",
    "modelo += pl.lpSum(casilleros[i][j] for i in range(n) for j in range(m))\n",
    "\n",
    "modelo.solve(pl.PULP_CBC_CMD(msg=False)) # Muteo el print de pulp\n",
    "\n",
    "# Mostrar el mapa del tablero ----------------------------------------------------------------------\n",
    "# if pl.LpStatus[modelo.status] == \"Optimal\":\n",
    "tablero = [[\" \" for _ in range(m)] for _ in range(n)]\n",
    "for i in range(n):\n",
    "    for j in range(m):\n",
    "        if pl.value(casilleros[i][j]) == 1:\n",
    "            tablero[i][j] = \"■\"\n",
    "\n",
    "print(\"Tablero:\")\n",
    "print(\"  \" + \" \".join(map(str, requisitos_columnas)))\n",
    "for i, fila in enumerate(tablero):\n",
    "    print(\n",
    "        f\"{requisitos_filas[i]} \" + \" \".join(fila)\n",
    "    )\n",
    "# # else:\n",
    "# #     print(\"No se encontró una solución óptima.\")"
   ]
  }
 ],
 "metadata": {
  "kernelspec": {
   "display_name": "Python 3",
   "language": "python",
   "name": "python3"
  },
  "language_info": {
   "codemirror_mode": {
    "name": "ipython",
    "version": 3
   },
   "file_extension": ".py",
   "mimetype": "text/x-python",
   "name": "python",
   "nbconvert_exporter": "python",
   "pygments_lexer": "ipython3",
   "version": "3.8.19"
  }
 },
 "nbformat": 4,
 "nbformat_minor": 2
}
